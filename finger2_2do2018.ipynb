{
 "cells": [
  {
   "cell_type": "code",
   "execution_count": 2,
   "metadata": {},
   "outputs": [
    {
     "data": {
      "text/html": [
       "\n",
       "        <div>\n",
       "            <p><b>SparkContext</b></p>\n",
       "\n",
       "            <p><a href=\"http://192.168.0.14:4040\">Spark UI</a></p>\n",
       "\n",
       "            <dl>\n",
       "              <dt>Version</dt>\n",
       "                <dd><code>v2.3.0</code></dd>\n",
       "              <dt>Master</dt>\n",
       "                <dd><code>local[*]</code></dd>\n",
       "              <dt>AppName</dt>\n",
       "                <dd><code>PySparkShell</code></dd>\n",
       "            </dl>\n",
       "        </div>\n",
       "        "
      ],
      "text/plain": [
       "<SparkContext master=local[*] appName=PySparkShell>"
      ]
     },
     "execution_count": 2,
     "metadata": {},
     "output_type": "execute_result"
    }
   ],
   "source": [
    "sc"
   ]
  },
  {
   "cell_type": "code",
   "execution_count": 3,
   "metadata": {},
   "outputs": [
    {
     "data": {
      "text/plain": [
       "pyspark.context.SparkContext"
      ]
     },
     "execution_count": 3,
     "metadata": {},
     "output_type": "execute_result"
    }
   ],
   "source": [
    "import pyspark\n",
    "\n",
    "try: \n",
    "    type(sc)\n",
    "except NameError:\n",
    "    sc = pyspark.SparkContext('local[*]')    \n",
    "    \n",
    "type(sc)"
   ]
  },
  {
   "cell_type": "code",
   "execution_count": 13,
   "metadata": {},
   "outputs": [
    {
     "data": {
      "text/plain": [
       "DataFrame[timestamp: timestamp, event: string, person: string, url: string, sku: string, model: string, condition: string, storage: string, color: string, skus: string, search_term: string, staticpage: string, campaign_source: string, search_engine: string, channel: string, new_vs_returning: string, city: string, region: string, country: string, device_type: string, screen_resolution: string, operating_system_version: string, browser_version: string]"
      ]
     },
     "metadata": {},
     "output_type": "display_data"
    }
   ],
   "source": [
    "data = sqlContext.read.format('csv').options(header='true', inferSchema='true').load('.../events.csv')\n",
    "display(data)\n"
   ]
  },
  {
   "cell_type": "code",
   "execution_count": 14,
   "metadata": {},
   "outputs": [
    {
     "data": {
      "text/plain": [
       "pyspark.sql.dataframe.DataFrame"
      ]
     },
     "execution_count": 14,
     "metadata": {},
     "output_type": "execute_result"
    }
   ],
   "source": [
    "type(data)"
   ]
  },
  {
   "cell_type": "code",
   "execution_count": 15,
   "metadata": {},
   "outputs": [
    {
     "data": {
      "text/plain": [
       "['timestamp',\n",
       " 'event',\n",
       " 'person',\n",
       " 'url',\n",
       " 'sku',\n",
       " 'model',\n",
       " 'condition',\n",
       " 'storage',\n",
       " 'color',\n",
       " 'skus',\n",
       " 'search_term',\n",
       " 'staticpage',\n",
       " 'campaign_source',\n",
       " 'search_engine',\n",
       " 'channel',\n",
       " 'new_vs_returning',\n",
       " 'city',\n",
       " 'region',\n",
       " 'country',\n",
       " 'device_type',\n",
       " 'screen_resolution',\n",
       " 'operating_system_version',\n",
       " 'browser_version']"
      ]
     },
     "execution_count": 15,
     "metadata": {},
     "output_type": "execute_result"
    }
   ],
   "source": [
    "data.columns"
   ]
  },
  {
   "cell_type": "code",
   "execution_count": 16,
   "metadata": {},
   "outputs": [
    {
     "data": {
      "text/plain": [
       "[Row(timestamp=datetime.datetime(2018, 5, 31, 23, 38, 5), event='ad campaign hit', person='0004b0a2', url='/comprar/iphone/iphone-5s', sku=None, model=None, condition=None, storage=None, color=None, skus=None, search_term=None, staticpage=None, campaign_source='criteo', search_engine=None, channel=None, new_vs_returning=None, city=None, region=None, country=None, device_type=None, screen_resolution=None, operating_system_version=None, browser_version=None),\n",
       " Row(timestamp=datetime.datetime(2018, 5, 31, 23, 38, 5), event='visited site', person='0004b0a2', url=None, sku=None, model=None, condition=None, storage=None, color=None, skus=None, search_term=None, staticpage=None, campaign_source=None, search_engine=None, channel='Paid', new_vs_returning='New', city='Camaragibe', region='Pernambuco', country='Brazil', device_type='Smartphone', screen_resolution='360x640', operating_system_version='Android 6', browser_version='Chrome Mobile 39'),\n",
       " Row(timestamp=datetime.datetime(2018, 5, 31, 23, 38, 9), event='viewed product', person='0004b0a2', url=None, sku='2694.0', model='iPhone 5s', condition='Bom', storage='32GB', color='Cinza espacial', skus=None, search_term=None, staticpage=None, campaign_source=None, search_engine=None, channel=None, new_vs_returning=None, city=None, region=None, country=None, device_type=None, screen_resolution=None, operating_system_version=None, browser_version=None),\n",
       " Row(timestamp=datetime.datetime(2018, 5, 31, 23, 38, 40), event='checkout', person='0004b0a2', url=None, sku='2694.0', model='iPhone 5s', condition='Bom', storage='32GB', color='Cinza espacial', skus=None, search_term=None, staticpage=None, campaign_source=None, search_engine=None, channel=None, new_vs_returning=None, city=None, region=None, country=None, device_type=None, screen_resolution=None, operating_system_version=None, browser_version=None),\n",
       " Row(timestamp=datetime.datetime(2018, 5, 29, 13, 29, 25), event='viewed product', person='0006a21a', url=None, sku='15338.0', model='Samsung Galaxy S8', condition='Bom', storage='64GB', color='Dourado', skus=None, search_term=None, staticpage=None, campaign_source=None, search_engine=None, channel=None, new_vs_returning=None, city=None, region=None, country=None, device_type=None, screen_resolution=None, operating_system_version=None, browser_version=None)]"
      ]
     },
     "execution_count": 16,
     "metadata": {},
     "output_type": "execute_result"
    }
   ],
   "source": [
    "data.take(5)"
   ]
  },
  {
   "cell_type": "code",
   "execution_count": 17,
   "metadata": {},
   "outputs": [],
   "source": [
    "dataRdd=data.rdd"
   ]
  },
  {
   "cell_type": "markdown",
   "metadata": {},
   "source": [
    "# Ejercicio 1 : Encontrar cuál es el tipo de evento predominante.\n",
    "### Mostramos 2 formas diferentes de resolver:\n"
   ]
  },
  {
   "cell_type": "code",
   "execution_count": 26,
   "metadata": {},
   "outputs": [
    {
     "data": {
      "text/plain": [
       "[('viewed product', 528931),\n",
       " ('brand listing', 98635),\n",
       " ('visited site', 87378),\n",
       " ('ad campaign hit', 82827),\n",
       " ('generic listing', 67534),\n",
       " ('searched products', 56073),\n",
       " ('search engine hit', 50957),\n",
       " ('checkout', 33735),\n",
       " ('staticpage', 3598),\n",
       " ('conversion', 1172),\n",
       " ('lead', 448)]"
      ]
     },
     "execution_count": 26,
     "metadata": {},
     "output_type": "execute_result"
    }
   ],
   "source": [
    "#--------------PRIMERA FORMA---------------\n",
    "dataRdd.map(lambda x:(x[1],1))\\\n",
    ".reduceByKey(lambda x,y:x+y)\\\n",
    ".takeOrdered(11,lambda x:-x[1])"
   ]
  },
  {
   "cell_type": "code",
   "execution_count": 27,
   "metadata": {},
   "outputs": [
    {
     "data": {
      "text/plain": [
       "('viewed product', 528931)"
      ]
     },
     "execution_count": 27,
     "metadata": {},
     "output_type": "execute_result"
    }
   ],
   "source": [
    "#--------------SEGUNDA FORMA-------------------\n",
    "dataRdd.map(lambda x:(x[1],1))\\\n",
    ".reduceByKey(lambda x,y:x+y)\\\n",
    ".reduce(lambda x,y:x if x[1]>y[1] else y)"
   ]
  },
  {
   "cell_type": "markdown",
   "metadata": {},
   "source": [
    "# Ejercicio 2: Encontrar el Top 5 de dispositivos más visitados dentro de la categoría Smartphones.\n"
   ]
  },
  {
   "cell_type": "markdown",
   "metadata": {},
   "source": [
    "* **primero filtramos por evento que sera \"viewed product: EL usuario visita una pagina de producto\"**\n",
    "* **sacamos la cantidad de visitas que tuvieron cada uno de los modelos**\n",
    "* **ordenamos y mostramos los top5**"
   ]
  },
  {
   "cell_type": "code",
   "execution_count": 34,
   "metadata": {},
   "outputs": [
    {
     "data": {
      "text/plain": [
       "[('iPhone 6', 47538),\n",
       " ('iPhone 5s', 42045),\n",
       " ('iPhone 6S', 36930),\n",
       " ('iPhone 7', 26330),\n",
       " ('Samsung Galaxy S7 Edge', 23062)]"
      ]
     },
     "execution_count": 34,
     "metadata": {},
     "output_type": "execute_result"
    }
   ],
   "source": [
    "dataRdd.filter(lambda x: x[1]==\"viewed product\")\\\n",
    ".map(lambda x:(x[5],1)).reduceByKey(lambda x,y: x+y)\\\n",
    ".takeOrdered(5,lambda x: -x[1])"
   ]
  }
 ],
 "metadata": {
  "anaconda-cloud": {},
  "kernelspec": {
   "display_name": "Python [conda env:anaconda3]",
   "language": "python",
   "name": "conda-env-anaconda3-py"
  },
  "language_info": {
   "codemirror_mode": {
    "name": "ipython",
    "version": 3
   },
   "file_extension": ".py",
   "mimetype": "text/x-python",
   "name": "python",
   "nbconvert_exporter": "python",
   "pygments_lexer": "ipython3",
   "version": "3.5.2"
  }
 },
 "nbformat": 4,
 "nbformat_minor": 2
}
