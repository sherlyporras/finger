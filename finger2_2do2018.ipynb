{
 "cells": [
  {
   "cell_type": "code",
   "execution_count": 2,
   "metadata": {},
   "outputs": [
    {
     "data": {
      "text/html": [
       "\n",
       "        <div>\n",
       "            <p><b>SparkContext</b></p>\n",
       "\n",
       "            <p><a href=\"http://192.168.0.14:4040\">Spark UI</a></p>\n",
       "\n",
       "            <dl>\n",
       "              <dt>Version</dt>\n",
       "                <dd><code>v2.3.0</code></dd>\n",
       "              <dt>Master</dt>\n",
       "                <dd><code>local[*]</code></dd>\n",
       "              <dt>AppName</dt>\n",
       "                <dd><code>PySparkShell</code></dd>\n",
       "            </dl>\n",
       "        </div>\n",
       "        "
      ],
      "text/plain": [
       "<SparkContext master=local[*] appName=PySparkShell>"
      ]
     },
     "execution_count": 2,
     "metadata": {},
     "output_type": "execute_result"
    }
   ],
   "source": [
    "sc"
   ]
  },
  {
   "cell_type": "code",
   "execution_count": 3,
   "metadata": {},
   "outputs": [
    {
     "data": {
      "text/plain": [
       "pyspark.context.SparkContext"
      ]
     },
     "execution_count": 3,
     "metadata": {},
     "output_type": "execute_result"
    }
   ],
   "source": [
    "import pyspark\n",
    "\n",
    "try: \n",
    "    type(sc)\n",
    "except NameError:\n",
    "    sc = pyspark.SparkContext('local[*]')    \n",
    "    \n",
    "type(sc)"
   ]
  },
  {
   "cell_type": "code",
   "execution_count": 13,
   "metadata": {},
   "outputs": [
    {
     "data": {
      "text/plain": [
       "DataFrame[timestamp: timestamp, event: string, person: string, url: string, sku: string, model: string, condition: string, storage: string, color: string, skus: string, search_term: string, staticpage: string, campaign_source: string, search_engine: string, channel: string, new_vs_returning: string, city: string, region: string, country: string, device_type: string, screen_resolution: string, operating_system_version: string, browser_version: string]"
      ]
     },
     "metadata": {},
     "output_type": "display_data"
    }
   ],
   "source": [
    "data = sqlContext.read.format('csv').options(header='true', inferSchema='true').load('.../events.csv')\n",
    "display(data)\n"
   ]
  },
  {
   "cell_type": "code",
   "execution_count": 14,
   "metadata": {},
   "outputs": [
    {
     "data": {
      "text/plain": [
       "pyspark.sql.dataframe.DataFrame"
      ]
     },
     "execution_count": 14,
     "metadata": {},
     "output_type": "execute_result"
    }
   ],
   "source": [
    "type(data)"
   ]
  },
  {
   "cell_type": "code",
   "execution_count": 15,
   "metadata": {},
   "outputs": [
    {
     "data": {
      "text/plain": [
       "['timestamp',\n",
       " 'event',\n",
       " 'person',\n",
       " 'url',\n",
       " 'sku',\n",
       " 'model',\n",
       " 'condition',\n",
       " 'storage',\n",
       " 'color',\n",
       " 'skus',\n",
       " 'search_term',\n",
       " 'staticpage',\n",
       " 'campaign_source',\n",
       " 'search_engine',\n",
       " 'channel',\n",
       " 'new_vs_returning',\n",
       " 'city',\n",
       " 'region',\n",
       " 'country',\n",
       " 'device_type',\n",
       " 'screen_resolution',\n",
       " 'operating_system_version',\n",
       " 'browser_version']"
      ]
     },
     "execution_count": 15,
     "metadata": {},
     "output_type": "execute_result"
    }
   ],
   "source": [
    "data.columns"
   ]
  },
  {
   "cell_type": "code",
   "execution_count": 16,
   "metadata": {},
   "outputs": [
    {
     "data": {
      "text/plain": [
       "[Row(timestamp=datetime.datetime(2018, 5, 31, 23, 38, 5), event='ad campaign hit', person='0004b0a2', url='/comprar/iphone/iphone-5s', sku=None, model=None, condition=None, storage=None, color=None, skus=None, search_term=None, staticpage=None, campaign_source='criteo', search_engine=None, channel=None, new_vs_returning=None, city=None, region=None, country=None, device_type=None, screen_resolution=None, operating_system_version=None, browser_version=None),\n",
       " Row(timestamp=datetime.datetime(2018, 5, 31, 23, 38, 5), event='visited site', person='0004b0a2', url=None, sku=None, model=None, condition=None, storage=None, color=None, skus=None, search_term=None, staticpage=None, campaign_source=None, search_engine=None, channel='Paid', new_vs_returning='New', city='Camaragibe', region='Pernambuco', country='Brazil', device_type='Smartphone', screen_resolution='360x640', operating_system_version='Android 6', browser_version='Chrome Mobile 39'),\n",
       " Row(timestamp=datetime.datetime(2018, 5, 31, 23, 38, 9), event='viewed product', person='0004b0a2', url=None, sku='2694.0', model='iPhone 5s', condition='Bom', storage='32GB', color='Cinza espacial', skus=None, search_term=None, staticpage=None, campaign_source=None, search_engine=None, channel=None, new_vs_returning=None, city=None, region=None, country=None, device_type=None, screen_resolution=None, operating_system_version=None, browser_version=None),\n",
       " Row(timestamp=datetime.datetime(2018, 5, 31, 23, 38, 40), event='checkout', person='0004b0a2', url=None, sku='2694.0', model='iPhone 5s', condition='Bom', storage='32GB', color='Cinza espacial', skus=None, search_term=None, staticpage=None, campaign_source=None, search_engine=None, channel=None, new_vs_returning=None, city=None, region=None, country=None, device_type=None, screen_resolution=None, operating_system_version=None, browser_version=None),\n",
       " Row(timestamp=datetime.datetime(2018, 5, 29, 13, 29, 25), event='viewed product', person='0006a21a', url=None, sku='15338.0', model='Samsung Galaxy S8', condition='Bom', storage='64GB', color='Dourado', skus=None, search_term=None, staticpage=None, campaign_source=None, search_engine=None, channel=None, new_vs_returning=None, city=None, region=None, country=None, device_type=None, screen_resolution=None, operating_system_version=None, browser_version=None)]"
      ]
     },
     "execution_count": 16,
     "metadata": {},
     "output_type": "execute_result"
    }
   ],
   "source": [
    "data.take(5)"
   ]
  },
  {
   "cell_type": "code",
   "execution_count": 17,
   "metadata": {},
   "outputs": [],
   "source": [
    "dataRdd=data.rdd"
   ]
  },
  {
   "cell_type": "markdown",
   "metadata": {},
   "source": [
    "# Ejercicio 1 : Encontrar cuál es el tipo de evento predominante.\n",
    "### Mostramos 2 formas diferentes de resolver:\n"
   ]
  },
  {
   "cell_type": "code",
   "execution_count": 26,
   "metadata": {},
   "outputs": [
    {
     "data": {
      "text/plain": [
       "[('viewed product', 528931),\n",
       " ('brand listing', 98635),\n",
       " ('visited site', 87378),\n",
       " ('ad campaign hit', 82827),\n",
       " ('generic listing', 67534),\n",
       " ('searched products', 56073),\n",
       " ('search engine hit', 50957),\n",
       " ('checkout', 33735),\n",
       " ('staticpage', 3598),\n",
       " ('conversion', 1172),\n",
       " ('lead', 448)]"
      ]
     },
     "execution_count": 26,
     "metadata": {},
     "output_type": "execute_result"
    }
   ],
   "source": [
    "#--------------PRIMERA FORMA---------------\n",
    "dataRdd.map(lambda x:(x[1],1))\\\n",
    ".reduceByKey(lambda x,y:x+y)\\\n",
    ".takeOrdered(11,lambda x:-x[1])"
   ]
  },
  {
   "cell_type": "code",
   "execution_count": 27,
   "metadata": {},
   "outputs": [
    {
     "data": {
      "text/plain": [
       "('viewed product', 528931)"
      ]
     },
     "execution_count": 27,
     "metadata": {},
     "output_type": "execute_result"
    }
   ],
   "source": [
    "#--------------SEGUNDA FORMA-------------------\n",
    "dataRdd.map(lambda x:(x[1],1))\\\n",
    ".reduceByKey(lambda x,y:x+y)\\\n",
    ".reduce(lambda x,y:x if x[1]>y[1] else y)"
   ]
  },
  {
   "cell_type": "markdown",
   "metadata": {},
   "source": [
    "# Ejercicio 2: Encontrar el Top 5 de dispositivos más visitados dentro de la categoría Smartphones.\n"
   ]
  },
  {
   "cell_type": "code",
   "execution_count": 32,
   "metadata": {},
   "outputs": [
    {
     "data": {
      "text/plain": [
       "['Motorola Moto X Style',\n",
       " 'Quantum YOU',\n",
       " None,\n",
       " 'Sony Xperia M4 Aqua Dual',\n",
       " 'LG G4 Stylus HDTV H540T',\n",
       " 'Asus Zenfone Go',\n",
       " 'Motorola Moto G5S Plus',\n",
       " 'Samsung Galaxy Core 2 Duos',\n",
       " 'Sony Xperia Z5',\n",
       " 'Samsung Galaxy J2 Prime TV',\n",
       " 'Samsung Galaxy S4 i9500',\n",
       " 'Sony Xperia Z5 Premium',\n",
       " 'Motorola Moto G1 3G',\n",
       " 'Motorola Moto G5 ',\n",
       " 'Samsung Galaxy J5 PRO',\n",
       " 'Samsung Galaxy Note 4',\n",
       " 'Samsung Galaxy Note 3',\n",
       " 'iPad 3 Wi-Fi + 4G',\n",
       " 'LG Nexus 5 D821',\n",
       " 'Quantum Muv Up',\n",
       " 'Motorola Moto G3 HDTV',\n",
       " 'iPad Mini Wi-Fi + 4G',\n",
       " 'Asus Live',\n",
       " 'Samsung Galaxy S5 Duos',\n",
       " 'Motorola Moto G4 Plus',\n",
       " 'iPhone 6 Plus',\n",
       " 'LG K4',\n",
       " 'Samsung Galaxy Gran 2 Duos TV',\n",
       " 'LG G4 H818P',\n",
       " 'Samsung Galaxy Gran Prime 3G Duos',\n",
       " 'Motorola Moto G4 DTV',\n",
       " 'Sony Xperia Z3 ',\n",
       " 'Samsung Galaxy A7 2017',\n",
       " 'Samsung Galaxy Tab E 7 Wi-Fi + 3G',\n",
       " 'Sony Xperia Z3 Compact',\n",
       " 'Samsung Galaxy Gran Neo Plus Duos',\n",
       " 'Samsung Galaxy J7 2016 Metal',\n",
       " 'Samsung Galaxy Tab A 2016 10.1  W-Fi + 4G',\n",
       " 'Samsung Galaxy Core Plus Duos TV',\n",
       " 'Samsung Galaxy J7 Prime',\n",
       " 'Samsung Galaxy J7 PRO',\n",
       " 'Samsung Galaxy Note 5',\n",
       " 'Samsung Galaxy S3 Neo Duos i9300i',\n",
       " 'Motorola Moto E2 3G Dual',\n",
       " 'iPad Air Wi-Fi',\n",
       " 'Motorola Moto X2',\n",
       " 'LG K10 TV',\n",
       " 'Samsung Galaxy Mega Duos',\n",
       " 'Samsung Galaxy Note 3 Neo Duos',\n",
       " 'Samsung Galaxy Grand Duos i9082',\n",
       " 'Samsung Galaxy S5 New Edition',\n",
       " 'Samsung Galaxy S4 Mini Duos',\n",
       " 'Quantum GO 3G',\n",
       " 'Samsung Galaxy J3',\n",
       " 'Samsung Galaxy J7 Neo',\n",
       " 'iPhone X',\n",
       " 'Samsung Galaxy J5',\n",
       " 'iPhone 4G',\n",
       " 'Samsung Galaxy Gran Neo Duos',\n",
       " 'Motorola Moto Z2 Play',\n",
       " 'Lenovo Vibe K5',\n",
       " 'iPad 2 Wi-Fi + 3G',\n",
       " 'Samsung Galaxy J1 Mini',\n",
       " 'iPad 4 Wi-Fi',\n",
       " 'Sony Xperia Z2',\n",
       " 'iPad Mini 2 Wi-Fi',\n",
       " 'Motorola Moto G2 3G Dual',\n",
       " 'LG Prime Plus H522',\n",
       " 'Samsung Galaxy Note 2 N7100',\n",
       " 'LG G5 SE',\n",
       " 'Samsung Galaxy S5 Mini',\n",
       " 'Samsung Galaxy A7',\n",
       " 'Motorola Moto X1',\n",
       " 'Samsung Galaxy S3 i9300',\n",
       " 'LG L80 Dual',\n",
       " 'iPad 4 Wi-Fi + 4G',\n",
       " 'Motorola Moto G1 4G',\n",
       " 'iPhone 6S Plus',\n",
       " 'Samsung Galaxy S6 Edge Plus',\n",
       " 'iPhone 5',\n",
       " 'iPad Mini 3 Wi-Fi + 4G',\n",
       " 'Motorola RAZR I',\n",
       " 'Asus Zenfone 5',\n",
       " 'iPad 3 Wi-Fi',\n",
       " 'Samsung Galaxy Win Duos',\n",
       " 'Sony Xperia Z3 TV',\n",
       " 'Samsung Galaxy Tab S 10.5 Wi-Fi + 4G',\n",
       " 'iPad Air 2 Wi-Fi',\n",
       " 'Quantum Muv',\n",
       " 'Asus Zenfone 3 Max 16 GB',\n",
       " 'iPhone 7',\n",
       " 'Motorola Moto MAXX ',\n",
       " 'Samsung Galaxy Tab 3 10.1 Wi-Fi + 3G',\n",
       " 'Asus Zenfone 6',\n",
       " 'LG G4 H815P',\n",
       " 'Samsung Gear S3 Classic',\n",
       " 'Asus Zenfone Selfie',\n",
       " 'Samsung Galaxy S4 Mini',\n",
       " 'Sony Xperia M4 Aqua',\n",
       " 'Motorola Moto G4 Play DTV',\n",
       " 'Samsung Galaxy J1 2016',\n",
       " 'Samsung Galaxy Note Edge',\n",
       " 'Samsung Galaxy Y Duos',\n",
       " 'Quantum GO 4G',\n",
       " 'Samsung Galaxy S6 Flat',\n",
       " 'iPhone 4S',\n",
       " 'Samsung Galaxy J2 4G Duos TV',\n",
       " 'Samsung Galaxy Tab E 9.6 Wi-Fi',\n",
       " 'Samsung Galaxy J5 2016 Metal',\n",
       " 'Samsung Gear S3 Frontier',\n",
       " 'Asus Zenfone 2 Laser',\n",
       " 'LG G3 D855',\n",
       " 'Motorola Moto G5S',\n",
       " 'LG G3 Stylus D690',\n",
       " 'Samsung Galaxy S8',\n",
       " 'Samsung Galaxy A5 2017',\n",
       " 'Quantum Muv Pro',\n",
       " 'Samsung Galaxy S8 Plus',\n",
       " 'Motorola Moto X Force',\n",
       " 'Samsung Galaxy A3 Duos',\n",
       " 'Samsung Galaxy E5 4G Duos',\n",
       " 'Lenovo Vibe A7010 Dual Chip',\n",
       " 'Samsung Galaxy Win 2 Duos TV',\n",
       " 'Samsung Galaxy Tab A com S Pen 8 Wi-Fi + 4G',\n",
       " 'LG G3 Beat D724',\n",
       " 'Motorola Moto Z Play',\n",
       " 'Samsung Galaxy S7 Edge',\n",
       " 'LG L Prime D337',\n",
       " 'iPhone 6S',\n",
       " 'Samsung Galaxy A7 2016',\n",
       " 'Motorola Moto Z',\n",
       " 'LG G4 Stylus H630',\n",
       " 'iPhone 6',\n",
       " 'iPhone SE',\n",
       " 'Samsung Galaxy Tab E 7 Wi-Fi',\n",
       " 'Samsung Gear Fit 2 Pequeno',\n",
       " 'Samsung Galaxy Note 8',\n",
       " 'iPhone 8',\n",
       " 'LG K8',\n",
       " 'iPad Mini 4 Wi-Fi',\n",
       " 'Samsung Galaxy J7',\n",
       " 'Samsung Gear S2',\n",
       " 'iPad Air Wi-Fi + 4G',\n",
       " 'Samsung Galaxy Tab E 9.6 Wi-Fi + 3G',\n",
       " 'Samsung Galaxy Tab Pro 10.1 Wi-Fi',\n",
       " 'Samsung Galaxy A5 2016',\n",
       " 'Samsung Galaxy Gran Prime Duos TV',\n",
       " 'Motorola Moto G4 Play',\n",
       " 'Samsung Galaxy S7',\n",
       " 'Motorola Moto Z Power Edition',\n",
       " 'iPhone 5c',\n",
       " 'Motorola Moto E2 4G Dual',\n",
       " 'Samsung Galaxy Gran Prime Duos',\n",
       " 'Asus Zenfone 3 Max  32 GB',\n",
       " 'LG K10',\n",
       " 'iPad Mini Wi-Fi',\n",
       " 'Motorola Moto G2 4G Dual',\n",
       " 'Samsung Galaxy S4 i9505',\n",
       " 'Asus Zenfone 3 Zoom',\n",
       " 'iPhone 8 Plus',\n",
       " 'Samsung Galaxy S3 Slim Duos',\n",
       " 'Samsung Galaxy Tab S 8.4 Wi-Fi + 4G',\n",
       " 'Motorola Moto G3 4G',\n",
       " 'Samsung Galaxy S3 Duos',\n",
       " 'Samsung Galaxy Tab 4  10.1 Wi-Fi + 3G',\n",
       " 'Asus Zenfone 2',\n",
       " 'iPad 2 Wi-Fi',\n",
       " 'Samsung Galaxy Tab S 10.5 Wi-Fi',\n",
       " 'Motorola Moto Z2 Force',\n",
       " 'Sony Xperia Z3 Plus',\n",
       " 'Samsung Galaxy S5',\n",
       " 'Samsung Galaxy S4 i9515',\n",
       " 'LG X Power',\n",
       " 'iPhone 5s',\n",
       " 'Motorola Moto E2 DTV',\n",
       " 'Asus Zenfone 2 Deluxe',\n",
       " 'Samsung Galaxy J5 Prime',\n",
       " 'Samsung Galaxy S6 Edge',\n",
       " 'Samsung Galaxy Tab S2 9.7 Wi-Fi + 4G',\n",
       " 'Samsung Galaxy A3 2016',\n",
       " 'LG  X Screen',\n",
       " 'Samsung Galaxy E7',\n",
       " 'Samsung Galaxy J2 4G Duos ',\n",
       " 'Blackberry Blackberry Z30',\n",
       " 'LG K10 Novo',\n",
       " 'LG G6',\n",
       " 'Samsung Galaxy S5 New Edition Duos ',\n",
       " 'Sony Xperia Z3 Dual',\n",
       " 'Motorola Moto X Play 4G Dual',\n",
       " 'Samsung Galaxy S3 Mini',\n",
       " 'LG G4 Beat H736',\n",
       " 'iPad Mini 3 Wi-Fi',\n",
       " 'Samsung Galaxy On 7',\n",
       " 'Samsung Galaxy Young 2 Duos TV',\n",
       " 'Samsung Galaxy S5 Mini Duos',\n",
       " 'Samsung Galaxy A9 Pro 2016',\n",
       " 'iPad Mini 2 Wi-Fi + 4G',\n",
       " 'Samsung Galaxy Tab S2 8 Wi-Fi + 4G',\n",
       " 'iPhone 7 Plus',\n",
       " 'Samsung Gear Fit 2 Grande',\n",
       " 'iPad Air 2 Wi-Fi + 4G',\n",
       " 'Motorola Moto G5 Plus',\n",
       " 'Samsung Galaxy A5']"
      ]
     },
     "execution_count": 32,
     "metadata": {},
     "output_type": "execute_result"
    }
   ],
   "source": [
    "dataRdd.map(lambda x: x[5]).distinct().collect()"
   ]
  },
  {
   "cell_type": "markdown",
   "metadata": {},
   "source": [
    "* **primero filtramos por evento que sera \"viewed product: EL usuario visita una pagina de producto\"**\n",
    "* **sacamos la cantidad de visitas que tuvieron cada uno de los modelos**\n",
    "* **hallamos los 5 mejores**"
   ]
  },
  {
   "cell_type": "code",
   "execution_count": 34,
   "metadata": {},
   "outputs": [
    {
     "data": {
      "text/plain": [
       "[('iPhone 6', 47538),\n",
       " ('iPhone 5s', 42045),\n",
       " ('iPhone 6S', 36930),\n",
       " ('iPhone 7', 26330),\n",
       " ('Samsung Galaxy S7 Edge', 23062)]"
      ]
     },
     "execution_count": 34,
     "metadata": {},
     "output_type": "execute_result"
    }
   ],
   "source": [
    "dataRdd.filter(lambda x: x[1]==\"viewed product\")\\\n",
    ".map(lambda x:(x[5],1)).reduceByKey(lambda x,y: x+y)\\\n",
    ".takeOrdered(5,lambda x: -x[1])"
   ]
  }
 ],
 "metadata": {
  "anaconda-cloud": {},
  "kernelspec": {
   "display_name": "Python [conda env:anaconda3]",
   "language": "python",
   "name": "conda-env-anaconda3-py"
  },
  "language_info": {
   "codemirror_mode": {
    "name": "ipython",
    "version": 3
   },
   "file_extension": ".py",
   "mimetype": "text/x-python",
   "name": "python",
   "nbconvert_exporter": "python",
   "pygments_lexer": "ipython3",
   "version": "3.5.2"
  }
 },
 "nbformat": 4,
 "nbformat_minor": 2
}
