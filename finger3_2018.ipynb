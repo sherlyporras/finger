{
 "cells": [
  {
   "cell_type": "code",
   "execution_count": 1,
   "metadata": {},
   "outputs": [],
   "source": [
    "import pyspark\n",
    "\n",
    "try: \n",
    "    type(sc)\n",
    "except NameError:\n",
    "    sc = pyspark.SparkContext('local[*]')"
   ]
  },
  {
   "cell_type": "code",
   "execution_count": 2,
   "metadata": {},
   "outputs": [
    {
     "data": {
      "text/plain": [
       "pyspark.context.SparkContext"
      ]
     },
     "execution_count": 2,
     "metadata": {},
     "output_type": "execute_result"
    }
   ],
   "source": [
    "type(sc)"
   ]
  },
  {
   "cell_type": "code",
   "execution_count": 3,
   "metadata": {},
   "outputs": [],
   "source": [
    "spark = SparkSession \\\n",
    "    .builder \\\n",
    "    .appName(\"Python Spark SQL basic example\") \\\n",
    "    .getOrCreate()"
   ]
  },
  {
   "cell_type": "code",
   "execution_count": 4,
   "metadata": {},
   "outputs": [
    {
     "data": {
      "text/plain": [
       "pyspark.sql.session.SparkSession"
      ]
     },
     "execution_count": 4,
     "metadata": {},
     "output_type": "execute_result"
    }
   ],
   "source": [
    "type(spark)"
   ]
  },
  {
   "cell_type": "code",
   "execution_count": 5,
   "metadata": {},
   "outputs": [],
   "source": [
    "df_airports= spark.read.load(\".../flight-delays/airports.csv\",\n",
    "                     format=\"csv\", sep=\",\", inferSchema=\"true\", header=\"true\")"
   ]
  },
  {
   "cell_type": "code",
   "execution_count": 7,
   "metadata": {},
   "outputs": [
    {
     "data": {
      "text/plain": [
       "['IATA_CODE', 'AIRPORT', 'CITY', 'STATE', 'COUNTRY', 'LATITUDE', 'LONGITUDE']"
      ]
     },
     "execution_count": 7,
     "metadata": {},
     "output_type": "execute_result"
    }
   ],
   "source": [
    "df_airports.columns"
   ]
  },
  {
   "cell_type": "code",
   "execution_count": 8,
   "metadata": {},
   "outputs": [],
   "source": [
    "df_airlines= spark.read.load(\".../flight-delays/airlines.csv\",\n",
    "                     format=\"csv\", sep=\",\", inferSchema=\"true\", header=\"true\")"
   ]
  },
  {
   "cell_type": "code",
   "execution_count": 9,
   "metadata": {},
   "outputs": [
    {
     "data": {
      "text/plain": [
       "['IATA_CODE', 'AIRLINE']"
      ]
     },
     "execution_count": 9,
     "metadata": {},
     "output_type": "execute_result"
    }
   ],
   "source": [
    "df_airlines.columns"
   ]
  },
  {
   "cell_type": "code",
   "execution_count": 10,
   "metadata": {},
   "outputs": [],
   "source": [
    "df_flights= spark.read.load(\".../flight-delays/flights.csv\",\n",
    "                     format=\"csv\", sep=\",\", inferSchema=\"true\", header=\"true\")"
   ]
  },
  {
   "cell_type": "code",
   "execution_count": 11,
   "metadata": {},
   "outputs": [
    {
     "data": {
      "text/plain": [
       "['YEAR',\n",
       " 'MONTH',\n",
       " 'DAY',\n",
       " 'DAY_OF_WEEK',\n",
       " 'AIRLINE',\n",
       " 'FLIGHT_NUMBER',\n",
       " 'TAIL_NUMBER',\n",
       " 'ORIGIN_AIRPORT',\n",
       " 'DESTINATION_AIRPORT',\n",
       " 'SCHEDULED_DEPARTURE',\n",
       " 'DEPARTURE_TIME',\n",
       " 'DEPARTURE_DELAY',\n",
       " 'TAXI_OUT',\n",
       " 'WHEELS_OFF',\n",
       " 'SCHEDULED_TIME',\n",
       " 'ELAPSED_TIME',\n",
       " 'AIR_TIME',\n",
       " 'DISTANCE',\n",
       " 'WHEELS_ON',\n",
       " 'TAXI_IN',\n",
       " 'SCHEDULED_ARRIVAL',\n",
       " 'ARRIVAL_TIME',\n",
       " 'ARRIVAL_DELAY',\n",
       " 'DIVERTED',\n",
       " 'CANCELLED',\n",
       " 'CANCELLATION_REASON',\n",
       " 'AIR_SYSTEM_DELAY',\n",
       " 'SECURITY_DELAY',\n",
       " 'AIRLINE_DELAY',\n",
       " 'LATE_AIRCRAFT_DELAY',\n",
       " 'WEATHER_DELAY']"
      ]
     },
     "execution_count": 11,
     "metadata": {},
     "output_type": "execute_result"
    }
   ],
   "source": [
    "df_flights.columns"
   ]
  },
  {
   "cell_type": "markdown",
   "metadata": {},
   "source": [
    "## Creacion de Vista Temporal"
   ]
  },
  {
   "cell_type": "code",
   "execution_count": 12,
   "metadata": {},
   "outputs": [],
   "source": [
    "#registramos los dataframe's flight,airlines y airports como una vista de SQL temporal\n",
    "df_flights.createOrReplaceTempView(\"flights\")\n",
    "df_airlines.createOrReplaceTempView(\"airlines\")\n",
    "df_airports.createOrReplaceTempView(\"airports\")\n"
   ]
  },
  {
   "cell_type": "markdown",
   "metadata": {},
   "source": [
    "# Mostrar los 5 aeropuertos de origen que tienen mayor cantidad de cancelaciones."
   ]
  },
  {
   "cell_type": "code",
   "execution_count": 41,
   "metadata": {},
   "outputs": [
    {
     "name": "stdout",
     "output_type": "stream",
     "text": [
      "+--------------------+-----------------------------+\n",
      "|             AIRPORT|total_originAirport_cancelled|\n",
      "+--------------------+-----------------------------+\n",
      "|Chicago O'Hare In...|                         8548|\n",
      "|Dallas/Fort Worth...|                         6254|\n",
      "|LaGuardia Airport...|                         4531|\n",
      "|Newark Liberty In...|                         3110|\n",
      "|Gen. Edward Lawre...|                         2654|\n",
      "+--------------------+-----------------------------+\n",
      "\n"
     ]
    }
   ],
   "source": [
    "query_1='SELECT airports.AIRPORT, COUNT(flights.FLIGHT_NUMBER) as total_originAirport_cancelled\\\n",
    "                       FROM flights INNER JOIN airports\\\n",
    "                       ON flights.ORIGIN_AIRPORT=airports.IATA_CODE\\\n",
    "                       WHERE CANCELLED=1\\\n",
    "                       GROUP BY airports.AIRPORT\\\n",
    "                       ORDER BY total_originAirport_cancelled DESC\\\n",
    "                       LIMIT 5'\n",
    "data_sql= spark.sql(query_1);\n",
    "spark.sql(query_1).show()"
   ]
  },
  {
   "cell_type": "markdown",
   "metadata": {},
   "source": [
    "# Mostrar el nombre de aerolíneas y la cantidad de vuelos desde Atlanta (ATL) a Los Ángeles (LAX) ordenadas cantidad de vuelos"
   ]
  },
  {
   "cell_type": "code",
   "execution_count": 35,
   "metadata": {},
   "outputs": [
    {
     "name": "stdout",
     "output_type": "stream",
     "text": [
      "+--------------+\n",
      "|ORIGIN_AIRPORT|\n",
      "+--------------+\n",
      "|           ANC|\n",
      "|           LAX|\n",
      "|           SFO|\n",
      "|           LAX|\n",
      "|           SEA|\n",
      "|           SFO|\n",
      "|           LAS|\n",
      "|           LAX|\n",
      "|           SFO|\n",
      "|           LAS|\n",
      "+--------------+\n",
      "\n"
     ]
    }
   ],
   "source": [
    "#analizamos como estan expresados cada campo \n",
    "spark.sql('SELECT ORIGIN_AIRPORT from flights LIMIT 10').show()"
   ]
  },
  {
   "cell_type": "code",
   "execution_count": 36,
   "metadata": {},
   "outputs": [
    {
     "name": "stdout",
     "output_type": "stream",
     "text": [
      "+-------------------+\n",
      "|DESTINATION_AIRPORT|\n",
      "+-------------------+\n",
      "|                SEA|\n",
      "|                PBI|\n",
      "|                CLT|\n",
      "|                MIA|\n",
      "|                ANC|\n",
      "|                MSP|\n",
      "|                MSP|\n",
      "|                CLT|\n",
      "|                DFW|\n",
      "|                ATL|\n",
      "+-------------------+\n",
      "\n"
     ]
    }
   ],
   "source": [
    "#analizamos como estan expresados cada campo \n",
    "spark.sql('SELECT DESTINATION_AIRPORT from flights LIMIT 10').show()"
   ]
  },
  {
   "cell_type": "code",
   "execution_count": 37,
   "metadata": {},
   "outputs": [
    {
     "name": "stdout",
     "output_type": "stream",
     "text": [
      "+-------+\n",
      "|AIRLINE|\n",
      "+-------+\n",
      "|     AS|\n",
      "|     AA|\n",
      "|     US|\n",
      "|     AA|\n",
      "|     AS|\n",
      "|     DL|\n",
      "|     NK|\n",
      "|     US|\n",
      "|     AA|\n",
      "|     DL|\n",
      "+-------+\n",
      "\n"
     ]
    }
   ],
   "source": [
    "spark.sql('SELECT AIRLINE from flights LIMIT 10').show()"
   ]
  },
  {
   "cell_type": "code",
   "execution_count": 32,
   "metadata": {},
   "outputs": [
    {
     "name": "stdout",
     "output_type": "stream",
     "text": [
      "+---------+\n",
      "|IATA_CODE|\n",
      "+---------+\n",
      "|       UA|\n",
      "|       AA|\n",
      "|       US|\n",
      "|       F9|\n",
      "|       B6|\n",
      "|       OO|\n",
      "|       AS|\n",
      "|       NK|\n",
      "|       WN|\n",
      "|       DL|\n",
      "+---------+\n",
      "\n"
     ]
    }
   ],
   "source": [
    "spark.sql('SELECT IATA_CODE from airlines LIMIT 10').show()"
   ]
  },
  {
   "cell_type": "code",
   "execution_count": 38,
   "metadata": {},
   "outputs": [
    {
     "name": "stdout",
     "output_type": "stream",
     "text": [
      "+--------------------+\n",
      "|             AIRLINE|\n",
      "+--------------------+\n",
      "|United Air Lines ...|\n",
      "|American Airlines...|\n",
      "|     US Airways Inc.|\n",
      "|Frontier Airlines...|\n",
      "|     JetBlue Airways|\n",
      "|Skywest Airlines ...|\n",
      "|Alaska Airlines Inc.|\n",
      "|    Spirit Air Lines|\n",
      "|Southwest Airline...|\n",
      "|Delta Air Lines Inc.|\n",
      "+--------------------+\n",
      "\n"
     ]
    }
   ],
   "source": [
    "spark.sql('SELECT AIRLINE from airlines LIMIT 10').show()"
   ]
  },
  {
   "cell_type": "markdown",
   "metadata": {},
   "source": [
    "***\n",
    "## Resolución"
   ]
  },
  {
   "cell_type": "code",
   "execution_count": 39,
   "metadata": {},
   "outputs": [
    {
     "name": "stdout",
     "output_type": "stream",
     "text": [
      "+--------------------+-------------------+\n",
      "|             AIRLINE|total_vuelosATL_LAX|\n",
      "+--------------------+-------------------+\n",
      "|Delta Air Lines Inc.|               3624|\n",
      "|Southwest Airline...|                962|\n",
      "|American Airlines...|                765|\n",
      "|Frontier Airlines...|                215|\n",
      "|    Spirit Air Lines|                103|\n",
      "+--------------------+-------------------+\n",
      "\n"
     ]
    }
   ],
   "source": [
    "query_2='SELECT airlines.AIRLINE, COUNT(flights.FLIGHT_NUMBER) as total_vuelosATL_LAX\\\n",
    "                       FROM flights INNER JOIN airlines\\\n",
    "                       ON flights.AIRLINE=airlines.IATA_CODE\\\n",
    "                       WHERE flights.ORIGIN_AIRPORT=\"ATL\"\\\n",
    "                             AND flights.DESTINATION_AIRPORT=\"LAX\"\\\n",
    "                       GROUP BY airlines.AIRLINE\\\n",
    "                       ORDER BY total_vuelosATL_LAX DESC'\n",
    "data_sql= spark.sql(query_2);\n",
    "spark.sql(query_2).show()"
   ]
  },
  {
   "cell_type": "markdown",
   "metadata": {},
   "source": [
    "# Mostrar y Analizar el Query Plan del punto 2 para entender las optimizaciones que realiza Catalyst Optimizer, contestando las siguientes preguntas:\n",
    "### * a) ¿Se realiza alguna optimización lógica, como filter pushdown? ¿En qué etapa?\n",
    "### * b)¿Que tipo de Join Físico se realiza? ¿En qué etapa?\n",
    "\n"
   ]
  },
  {
   "cell_type": "code",
   "execution_count": 40,
   "metadata": {},
   "outputs": [
    {
     "name": "stdout",
     "output_type": "stream",
     "text": [
      "== Parsed Logical Plan ==\n",
      "'Sort ['total_vuelosATL_LAX DESC NULLS LAST], true\n",
      "+- 'Aggregate ['airlines.AIRLINE], ['airlines.AIRLINE, 'COUNT('flights.FLIGHT_NUMBER) AS total_vuelosATL_LAX#341]\n",
      "   +- 'Filter (('flights.ORIGIN_AIRPORT = ATL) && ('flights.DESTINATION_AIRPORT = LAX))\n",
      "      +- 'Join Inner, ('flights.AIRLINE = 'airlines.IATA_CODE)\n",
      "         :- 'UnresolvedRelation `flights`\n",
      "         +- 'UnresolvedRelation `airlines`\n",
      "\n",
      "== Analyzed Logical Plan ==\n",
      "AIRLINE: string, total_vuelosATL_LAX: bigint\n",
      "Sort [total_vuelosATL_LAX#341L DESC NULLS LAST], true\n",
      "+- Aggregate [AIRLINE#35], [AIRLINE#35, count(FLIGHT_NUMBER#53) AS total_vuelosATL_LAX#341L]\n",
      "   +- Filter ((ORIGIN_AIRPORT#55 = ATL) && (DESTINATION_AIRPORT#56 = LAX))\n",
      "      +- Join Inner, (AIRLINE#52 = IATA_CODE#34)\n",
      "         :- SubqueryAlias flights\n",
      "         :  +- Relation[YEAR#48,MONTH#49,DAY#50,DAY_OF_WEEK#51,AIRLINE#52,FLIGHT_NUMBER#53,TAIL_NUMBER#54,ORIGIN_AIRPORT#55,DESTINATION_AIRPORT#56,SCHEDULED_DEPARTURE#57,DEPARTURE_TIME#58,DEPARTURE_DELAY#59,TAXI_OUT#60,WHEELS_OFF#61,SCHEDULED_TIME#62,ELAPSED_TIME#63,AIR_TIME#64,DISTANCE#65,WHEELS_ON#66,TAXI_IN#67,SCHEDULED_ARRIVAL#68,ARRIVAL_TIME#69,ARRIVAL_DELAY#70,DIVERTED#71,... 7 more fields] csv\n",
      "         +- SubqueryAlias airlines\n",
      "            +- Relation[IATA_CODE#34,AIRLINE#35] csv\n",
      "\n",
      "== Optimized Logical Plan ==\n",
      "Sort [total_vuelosATL_LAX#341L DESC NULLS LAST], true\n",
      "+- Aggregate [AIRLINE#35], [AIRLINE#35, count(FLIGHT_NUMBER#53) AS total_vuelosATL_LAX#341L]\n",
      "   +- Project [FLIGHT_NUMBER#53, AIRLINE#35]\n",
      "      +- Join Inner, (AIRLINE#52 = IATA_CODE#34)\n",
      "         :- Project [AIRLINE#52, FLIGHT_NUMBER#53]\n",
      "         :  +- Filter ((((isnotnull(ORIGIN_AIRPORT#55) && isnotnull(DESTINATION_AIRPORT#56)) && (ORIGIN_AIRPORT#55 = ATL)) && (DESTINATION_AIRPORT#56 = LAX)) && isnotnull(AIRLINE#52))\n",
      "         :     +- Relation[YEAR#48,MONTH#49,DAY#50,DAY_OF_WEEK#51,AIRLINE#52,FLIGHT_NUMBER#53,TAIL_NUMBER#54,ORIGIN_AIRPORT#55,DESTINATION_AIRPORT#56,SCHEDULED_DEPARTURE#57,DEPARTURE_TIME#58,DEPARTURE_DELAY#59,TAXI_OUT#60,WHEELS_OFF#61,SCHEDULED_TIME#62,ELAPSED_TIME#63,AIR_TIME#64,DISTANCE#65,WHEELS_ON#66,TAXI_IN#67,SCHEDULED_ARRIVAL#68,ARRIVAL_TIME#69,ARRIVAL_DELAY#70,DIVERTED#71,... 7 more fields] csv\n",
      "         +- Filter isnotnull(IATA_CODE#34)\n",
      "            +- Relation[IATA_CODE#34,AIRLINE#35] csv\n",
      "\n",
      "== Physical Plan ==\n",
      "*(4) Sort [total_vuelosATL_LAX#341L DESC NULLS LAST], true, 0\n",
      "+- Exchange rangepartitioning(total_vuelosATL_LAX#341L DESC NULLS LAST, 200)\n",
      "   +- *(3) HashAggregate(keys=[AIRLINE#35], functions=[count(FLIGHT_NUMBER#53)], output=[AIRLINE#35, total_vuelosATL_LAX#341L])\n",
      "      +- Exchange hashpartitioning(AIRLINE#35, 200)\n",
      "         +- *(2) HashAggregate(keys=[AIRLINE#35], functions=[partial_count(FLIGHT_NUMBER#53)], output=[AIRLINE#35, count#347L])\n",
      "            +- *(2) Project [FLIGHT_NUMBER#53, AIRLINE#35]\n",
      "               +- *(2) BroadcastHashJoin [AIRLINE#52], [IATA_CODE#34], Inner, BuildRight\n",
      "                  :- *(2) Project [AIRLINE#52, FLIGHT_NUMBER#53]\n",
      "                  :  +- *(2) Filter ((((isnotnull(ORIGIN_AIRPORT#55) && isnotnull(DESTINATION_AIRPORT#56)) && (ORIGIN_AIRPORT#55 = ATL)) && (DESTINATION_AIRPORT#56 = LAX)) && isnotnull(AIRLINE#52))\n",
      "                  :     +- *(2) FileScan csv [AIRLINE#52,FLIGHT_NUMBER#53,ORIGIN_AIRPORT#55,DESTINATION_AIRPORT#56] Batched: false, Format: CSV, Location: InMemoryFileIndex[file:/home/sherly/flight-delays/flights.csv], PartitionFilters: [], PushedFilters: [IsNotNull(ORIGIN_AIRPORT), IsNotNull(DESTINATION_AIRPORT), EqualTo(ORIGIN_AIRPORT,ATL), EqualTo(..., ReadSchema: struct<AIRLINE:string,FLIGHT_NUMBER:int,ORIGIN_AIRPORT:string,DESTINATION_AIRPORT:string>\n",
      "                  +- BroadcastExchange HashedRelationBroadcastMode(List(input[0, string, true]))\n",
      "                     +- *(1) Project [IATA_CODE#34, AIRLINE#35]\n",
      "                        +- *(1) Filter isnotnull(IATA_CODE#34)\n",
      "                           +- *(1) FileScan csv [IATA_CODE#34,AIRLINE#35] Batched: false, Format: CSV, Location: InMemoryFileIndex[file:/home/sherly/flight-delays/airlines.csv], PartitionFilters: [], PushedFilters: [IsNotNull(IATA_CODE)], ReadSchema: struct<IATA_CODE:string,AIRLINE:string>\n"
     ]
    }
   ],
   "source": [
    "spark.sql(query_2).explain(True)"
   ]
  },
  {
   "cell_type": "markdown",
   "metadata": {},
   "source": [
    "***\n",
    "### RPTA a) :\n",
    "###        Efectivamente se realiza un filter pushdown : \n",
    "##      == Analyzed Logical Plan ==\n",
    "     AIRLINE: string, total_vuelosATL_LAX: bigint\n",
    "    Sort [total_vuelosATL_LAX#280L DESC NULLS LAST], true\n",
    "    +- Aggregate [AIRLINE#35], [AIRLINE#35, count(FLIGHT_NUMBER#53) AS total_vuelosATL_LAX#280L]\n",
    "####    +- Filter ((ORIGIN_AIRPORT#55 = ATL) && (DESTINATION_AIRPORT#56 = LAX))\n",
    "      +- Join Inner, (AIRLINE#52 = IATA_CODE#34)\n",
    "      \n",
    "###      Antes de efectuarse un JOIN INNER donde hace el procesamiento a menos datos.\n",
    "      \n",
    "###      El filtro lo podemos observar en:\n",
    "      \n",
    "##      == Optimized Logical Plan ==\n",
    "    Sort [total_vuelosATL_LAX#280L DESC NULLS LAST], true\n",
    "    +- Aggregate [AIRLINE#35], [AIRLINE#35, count(FLIGHT_NUMBER#53) AS total_vuelosATL_LAX#280L]\n",
    "     +- Project [FLIGHT_NUMBER#53, AIRLINE#35]\n",
    "      +- Join Inner, (AIRLINE#52 = IATA_CODE#34)\n",
    "         :- Project [AIRLINE#52, FLIGHT_NUMBER#53]\n",
    "####       :  +- Filter ((((isnotnull(ORIGIN_AIRPORT#55) && isnotnull(DESTINATION_AIRPORT#56)) && (ORIGIN_AIRPORT#55 = ATL)) && (DESTINATION_AIRPORT#56 = LAX)) && isnotnull(AIRLINE#52))\n",
    "         :     +- Relation[YEAR#48,MONTH#49,DAY#50,DAY_OF_WEEK#51,AIRLINE#52,FLIGHT_NUMBER#53,TAIL_NUMBER#54,ORIGIN_AIRPORT#55,DESTINATION_AIRPORT#56,SCHEDULED_DEPARTURE#57,DEPARTURE_TIME#58,DEPARTURE_DELAY#59,TAXI_OUT#60,WHEELS_OFF#61,SCHEDULED_TIME#62,ELAPSED_TIME#63,AIR_TIME#64,DISTANCE#65,WHEELS_ON#66,TAXI_IN#67,SCHEDULED_ARRIVAL#68,ARRIVAL_TIME#69,ARRIVAL_DELAY#70,DIVERTED#71,... 7 more fields] csv\n",
    "####      +- Filter isnotnull(IATA_CODE#34)\n",
    "            +- Relation[IATA_CODE#34,AIRLINE#35] csv\n",
    "            \n",
    "###            Sea filtrando los valores no nulos en dos momentos que hacen mayor efectividad. \n"
   ]
  },
  {
   "cell_type": "markdown",
   "metadata": {},
   "source": [
    "***\n",
    "### RPTA b) :\n",
    "\n",
    "### El tipo de join fisico que se realiza es el de , BroadcastHashJoin, y lo podemos observa en la etapa de Physical plan generados por Catalys.\n",
    "    == Physical Plan ==\n",
    "    *(4) Sort [total_vuelosATL_LAX#280L DESC NULLS LAST], true, 0\n",
    "    +- Exchange rangepartitioning(total_vuelosATL_LAX#280L DESC NULLS LAST, 200)\n",
    "     +- *(3) HashAggregate(keys=[AIRLINE#35], functions=[count(FLIGHT_NUMBER#53)], output=[AIRLINE#35, total_vuelosATL_LAX#280L])\n",
    "      +- Exchange hashpartitioning(AIRLINE#35, 200)\n",
    "         +- *(2) HashAggregate(keys=[AIRLINE#35], functions=[partial_count(FLIGHT_NUMBER#53)], output=[AIRLINE#35, count#286L])\n",
    "            +- *(2) Project [FLIGHT_NUMBER#53, AIRLINE#35]\n",
    "####               +- *(2) BroadcastHashJoin [AIRLINE#52], [IATA_CODE#34], Inner, BuildRight\n",
    "                  :- *(2) Project [AIRLINE#52, FLIGHT_NUMBER#53]\n",
    "                  :  +- *(2) Filter ((((isnotnull(ORIGIN_AIRPORT#55) && isnotnull(DESTINATION_AIRPORT#56)) && (ORIGIN_AIRPORT#55 = ATL)) && (DESTINATION_AIRPORT#56 = LAX)) &"
   ]
  },
  {
   "cell_type": "code",
   "execution_count": null,
   "metadata": {},
   "outputs": [],
   "source": []
  }
 ],
 "metadata": {
  "anaconda-cloud": {},
  "kernelspec": {
   "display_name": "Python [conda env:anaconda3]",
   "language": "python",
   "name": "conda-env-anaconda3-py"
  },
  "language_info": {
   "codemirror_mode": {
    "name": "ipython",
    "version": 3
   },
   "file_extension": ".py",
   "mimetype": "text/x-python",
   "name": "python",
   "nbconvert_exporter": "python",
   "pygments_lexer": "ipython3",
   "version": "3.5.2"
  }
 },
 "nbformat": 4,
 "nbformat_minor": 2
}
